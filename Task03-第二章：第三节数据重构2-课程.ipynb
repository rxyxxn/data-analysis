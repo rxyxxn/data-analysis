{
 "cells": [
  {
   "cell_type": "markdown",
   "metadata": {},
   "source": [
    "**复习：**在前面我们已经学习了Pandas基础，第二章我们开始进入数据分析的业务部分，在第二章第一节的内容中，我们学习了**数据的清洗**，这一部分十分重要，只有数据变得相对干净，我们之后对数据的分析才可以更有力。而这一节，我们要做的是数据重构，数据重构依旧属于数据理解（准备）的范围。"
   ]
  },
  {
   "cell_type": "markdown",
   "metadata": {},
   "source": [
    "#### 开始之前，导入numpy、pandas包和数据"
   ]
  },
  {
   "cell_type": "code",
   "execution_count": 1,
   "metadata": {},
   "outputs": [],
   "source": [
    "# 导入基本库\n",
    "import numpy as np\n",
    "import pandas as pd"
   ]
  },
  {
   "cell_type": "code",
   "execution_count": 4,
   "metadata": {},
   "outputs": [
    {
     "data": {
      "text/html": [
       "<div>\n",
       "<style scoped>\n",
       "    .dataframe tbody tr th:only-of-type {\n",
       "        vertical-align: middle;\n",
       "    }\n",
       "\n",
       "    .dataframe tbody tr th {\n",
       "        vertical-align: top;\n",
       "    }\n",
       "\n",
       "    .dataframe thead th {\n",
       "        text-align: right;\n",
       "    }\n",
       "</style>\n",
       "<table border=\"1\" class=\"dataframe\">\n",
       "  <thead>\n",
       "    <tr style=\"text-align: right;\">\n",
       "      <th></th>\n",
       "      <th>Unnamed: 0</th>\n",
       "      <th>PassengerId</th>\n",
       "      <th>Survived</th>\n",
       "      <th>Pclass</th>\n",
       "      <th>Name</th>\n",
       "      <th>Sex</th>\n",
       "      <th>Age</th>\n",
       "      <th>SibSp</th>\n",
       "      <th>Parch</th>\n",
       "      <th>Ticket</th>\n",
       "      <th>Fare</th>\n",
       "      <th>Cabin</th>\n",
       "      <th>Embarked</th>\n",
       "    </tr>\n",
       "  </thead>\n",
       "  <tbody>\n",
       "    <tr>\n",
       "      <th>0</th>\n",
       "      <td>0</td>\n",
       "      <td>1</td>\n",
       "      <td>0</td>\n",
       "      <td>3</td>\n",
       "      <td>Braund, Mr. Owen Harris</td>\n",
       "      <td>male</td>\n",
       "      <td>22.0</td>\n",
       "      <td>1</td>\n",
       "      <td>0</td>\n",
       "      <td>A/5 21171</td>\n",
       "      <td>7.2500</td>\n",
       "      <td>NaN</td>\n",
       "      <td>S</td>\n",
       "    </tr>\n",
       "    <tr>\n",
       "      <th>1</th>\n",
       "      <td>1</td>\n",
       "      <td>2</td>\n",
       "      <td>1</td>\n",
       "      <td>1</td>\n",
       "      <td>Cumings, Mrs. John Bradley (Florence Briggs Th...</td>\n",
       "      <td>female</td>\n",
       "      <td>38.0</td>\n",
       "      <td>1</td>\n",
       "      <td>0</td>\n",
       "      <td>PC 17599</td>\n",
       "      <td>71.2833</td>\n",
       "      <td>C85</td>\n",
       "      <td>C</td>\n",
       "    </tr>\n",
       "    <tr>\n",
       "      <th>2</th>\n",
       "      <td>2</td>\n",
       "      <td>3</td>\n",
       "      <td>1</td>\n",
       "      <td>3</td>\n",
       "      <td>Heikkinen, Miss. Laina</td>\n",
       "      <td>female</td>\n",
       "      <td>26.0</td>\n",
       "      <td>0</td>\n",
       "      <td>0</td>\n",
       "      <td>STON/O2. 3101282</td>\n",
       "      <td>7.9250</td>\n",
       "      <td>NaN</td>\n",
       "      <td>S</td>\n",
       "    </tr>\n",
       "    <tr>\n",
       "      <th>3</th>\n",
       "      <td>3</td>\n",
       "      <td>4</td>\n",
       "      <td>1</td>\n",
       "      <td>1</td>\n",
       "      <td>Futrelle, Mrs. Jacques Heath (Lily May Peel)</td>\n",
       "      <td>female</td>\n",
       "      <td>35.0</td>\n",
       "      <td>1</td>\n",
       "      <td>0</td>\n",
       "      <td>113803</td>\n",
       "      <td>53.1000</td>\n",
       "      <td>C123</td>\n",
       "      <td>S</td>\n",
       "    </tr>\n",
       "    <tr>\n",
       "      <th>4</th>\n",
       "      <td>4</td>\n",
       "      <td>5</td>\n",
       "      <td>0</td>\n",
       "      <td>3</td>\n",
       "      <td>Allen, Mr. William Henry</td>\n",
       "      <td>male</td>\n",
       "      <td>35.0</td>\n",
       "      <td>0</td>\n",
       "      <td>0</td>\n",
       "      <td>373450</td>\n",
       "      <td>8.0500</td>\n",
       "      <td>NaN</td>\n",
       "      <td>S</td>\n",
       "    </tr>\n",
       "  </tbody>\n",
       "</table>\n",
       "</div>"
      ],
      "text/plain": [
       "   Unnamed: 0  PassengerId  Survived  Pclass  \\\n",
       "0           0            1         0       3   \n",
       "1           1            2         1       1   \n",
       "2           2            3         1       3   \n",
       "3           3            4         1       1   \n",
       "4           4            5         0       3   \n",
       "\n",
       "                                                Name     Sex   Age  SibSp  \\\n",
       "0                            Braund, Mr. Owen Harris    male  22.0      1   \n",
       "1  Cumings, Mrs. John Bradley (Florence Briggs Th...  female  38.0      1   \n",
       "2                             Heikkinen, Miss. Laina  female  26.0      0   \n",
       "3       Futrelle, Mrs. Jacques Heath (Lily May Peel)  female  35.0      1   \n",
       "4                           Allen, Mr. William Henry    male  35.0      0   \n",
       "\n",
       "   Parch            Ticket     Fare Cabin Embarked  \n",
       "0      0         A/5 21171   7.2500   NaN        S  \n",
       "1      0          PC 17599  71.2833   C85        C  \n",
       "2      0  STON/O2. 3101282   7.9250   NaN        S  \n",
       "3      0            113803  53.1000  C123        S  \n",
       "4      0            373450   8.0500   NaN        S  "
      ]
     },
     "execution_count": 4,
     "metadata": {},
     "output_type": "execute_result"
    }
   ],
   "source": [
    "# 载入上一个任务人保存的文件中:result.csv，并查看这个文件\n",
    "df = pd.read_csv('data/result.csv')\n",
    "df.head()"
   ]
  },
  {
   "cell_type": "markdown",
   "metadata": {},
   "source": [
    "# 2 第二章：数据重构\n"
   ]
  },
  {
   "cell_type": "markdown",
   "metadata": {},
   "source": [
    "## 第一部分：数据聚合与运算"
   ]
  },
  {
   "cell_type": "markdown",
   "metadata": {},
   "source": [
    "### 2.6 数据运用"
   ]
  },
  {
   "cell_type": "markdown",
   "metadata": {},
   "source": [
    "#### 2.6.1 任务一：通过教材《Python for Data Analysis》P303、Google or anything来学习了解GroupBy机制"
   ]
  },
  {
   "cell_type": "markdown",
   "metadata": {},
   "source": [
    "#写入心得\n",
    "groupby()用于数据分组以及分组之后的组内计算，最基本的就是组内计数, 求和, 求均值, 求方差\n"
   ]
  },
  {
   "cell_type": "markdown",
   "metadata": {},
   "source": [
    "#### 2.4.2：任务二：计算泰坦尼克号男性与女性的平均票价"
   ]
  },
  {
   "cell_type": "code",
   "execution_count": 5,
   "metadata": {},
   "outputs": [
    {
     "data": {
      "text/plain": [
       "[('female',\n",
       "       Unnamed: 0  PassengerId  Survived  Pclass  \\\n",
       "  1             1            2         1       1   \n",
       "  2             2            3         1       3   \n",
       "  3             3            4         1       1   \n",
       "  8             8            9         1       3   \n",
       "  9             9           10         1       2   \n",
       "  ..          ...          ...       ...     ...   \n",
       "  880         441          881         1       2   \n",
       "  882         443          883         0       3   \n",
       "  885         446          886         0       3   \n",
       "  887         448          888         1       1   \n",
       "  888         449          889         0       3   \n",
       "  \n",
       "                                                    Name     Sex   Age  SibSp  \\\n",
       "  1    Cumings, Mrs. John Bradley (Florence Briggs Th...  female  38.0      1   \n",
       "  2                               Heikkinen, Miss. Laina  female  26.0      0   \n",
       "  3         Futrelle, Mrs. Jacques Heath (Lily May Peel)  female  35.0      1   \n",
       "  8    Johnson, Mrs. Oscar W (Elisabeth Vilhelmina Berg)  female  27.0      0   \n",
       "  9                  Nasser, Mrs. Nicholas (Adele Achem)  female  14.0      1   \n",
       "  ..                                                 ...     ...   ...    ...   \n",
       "  880       Shelley, Mrs. William (Imanita Parrish Hall)  female  25.0      0   \n",
       "  882                       Dahlberg, Miss. Gerda Ulrika  female  22.0      0   \n",
       "  885               Rice, Mrs. William (Margaret Norton)  female  39.0      0   \n",
       "  887                       Graham, Miss. Margaret Edith  female  19.0      0   \n",
       "  888           Johnston, Miss. Catherine Helen \"Carrie\"  female   NaN      1   \n",
       "  \n",
       "       Parch            Ticket     Fare Cabin Embarked  \n",
       "  1        0          PC 17599  71.2833   C85        C  \n",
       "  2        0  STON/O2. 3101282   7.9250   NaN        S  \n",
       "  3        0            113803  53.1000  C123        S  \n",
       "  8        2            347742  11.1333   NaN        S  \n",
       "  9        0            237736  30.0708   NaN        C  \n",
       "  ..     ...               ...      ...   ...      ...  \n",
       "  880      1            230433  26.0000   NaN        S  \n",
       "  882      0              7552  10.5167   NaN        S  \n",
       "  885      5            382652  29.1250   NaN        Q  \n",
       "  887      0            112053  30.0000   B42        S  \n",
       "  888      2        W./C. 6607  23.4500   NaN        S  \n",
       "  \n",
       "  [314 rows x 13 columns]),\n",
       " ('male',\n",
       "       Unnamed: 0  PassengerId  Survived  Pclass  \\\n",
       "  0             0            1         0       3   \n",
       "  4             4            5         0       3   \n",
       "  5             5            6         0       3   \n",
       "  6             6            7         0       1   \n",
       "  7             7            8         0       3   \n",
       "  ..          ...          ...       ...     ...   \n",
       "  883         444          884         0       2   \n",
       "  884         445          885         0       3   \n",
       "  886         447          887         0       2   \n",
       "  889         450          890         1       1   \n",
       "  890         451          891         0       3   \n",
       "  \n",
       "                                 Name   Sex   Age  SibSp  Parch  \\\n",
       "  0           Braund, Mr. Owen Harris  male  22.0      1      0   \n",
       "  4          Allen, Mr. William Henry  male  35.0      0      0   \n",
       "  5                  Moran, Mr. James  male   NaN      0      0   \n",
       "  6           McCarthy, Mr. Timothy J  male  54.0      0      0   \n",
       "  7    Palsson, Master. Gosta Leonard  male   2.0      3      1   \n",
       "  ..                              ...   ...   ...    ...    ...   \n",
       "  883   Banfield, Mr. Frederick James  male  28.0      0      0   \n",
       "  884          Sutehall, Mr. Henry Jr  male  25.0      0      0   \n",
       "  886           Montvila, Rev. Juozas  male  27.0      0      0   \n",
       "  889           Behr, Mr. Karl Howell  male  26.0      0      0   \n",
       "  890             Dooley, Mr. Patrick  male  32.0      0      0   \n",
       "  \n",
       "                 Ticket     Fare Cabin Embarked  \n",
       "  0           A/5 21171   7.2500   NaN        S  \n",
       "  4              373450   8.0500   NaN        S  \n",
       "  5              330877   8.4583   NaN        Q  \n",
       "  6               17463  51.8625   E46        S  \n",
       "  7              349909  21.0750   NaN        S  \n",
       "  ..                ...      ...   ...      ...  \n",
       "  883  C.A./SOTON 34068  10.5000   NaN        S  \n",
       "  884   SOTON/OQ 392076   7.0500   NaN        S  \n",
       "  886            211536  13.0000   NaN        S  \n",
       "  889            111369  30.0000  C148        C  \n",
       "  890            370376   7.7500   NaN        Q  \n",
       "  \n",
       "  [577 rows x 13 columns])]"
      ]
     },
     "execution_count": 5,
     "metadata": {},
     "output_type": "execute_result"
    }
   ],
   "source": [
    "# 写入代码\n",
    "list(df.groupby(df['Sex']))"
   ]
  },
  {
   "cell_type": "code",
   "execution_count": 6,
   "metadata": {},
   "outputs": [
    {
     "data": {
      "text/html": [
       "<div>\n",
       "<style scoped>\n",
       "    .dataframe tbody tr th:only-of-type {\n",
       "        vertical-align: middle;\n",
       "    }\n",
       "\n",
       "    .dataframe tbody tr th {\n",
       "        vertical-align: top;\n",
       "    }\n",
       "\n",
       "    .dataframe thead tr th {\n",
       "        text-align: left;\n",
       "    }\n",
       "\n",
       "    .dataframe thead tr:last-of-type th {\n",
       "        text-align: right;\n",
       "    }\n",
       "</style>\n",
       "<table border=\"1\" class=\"dataframe\">\n",
       "  <thead>\n",
       "    <tr>\n",
       "      <th></th>\n",
       "      <th colspan=\"8\" halign=\"left\">Unnamed: 0</th>\n",
       "      <th colspan=\"2\" halign=\"left\">PassengerId</th>\n",
       "      <th>...</th>\n",
       "      <th colspan=\"2\" halign=\"left\">Parch</th>\n",
       "      <th colspan=\"8\" halign=\"left\">Fare</th>\n",
       "    </tr>\n",
       "    <tr>\n",
       "      <th></th>\n",
       "      <th>count</th>\n",
       "      <th>mean</th>\n",
       "      <th>std</th>\n",
       "      <th>min</th>\n",
       "      <th>25%</th>\n",
       "      <th>50%</th>\n",
       "      <th>75%</th>\n",
       "      <th>max</th>\n",
       "      <th>count</th>\n",
       "      <th>mean</th>\n",
       "      <th>...</th>\n",
       "      <th>75%</th>\n",
       "      <th>max</th>\n",
       "      <th>count</th>\n",
       "      <th>mean</th>\n",
       "      <th>std</th>\n",
       "      <th>min</th>\n",
       "      <th>25%</th>\n",
       "      <th>50%</th>\n",
       "      <th>75%</th>\n",
       "      <th>max</th>\n",
       "    </tr>\n",
       "    <tr>\n",
       "      <th>Sex</th>\n",
       "      <th></th>\n",
       "      <th></th>\n",
       "      <th></th>\n",
       "      <th></th>\n",
       "      <th></th>\n",
       "      <th></th>\n",
       "      <th></th>\n",
       "      <th></th>\n",
       "      <th></th>\n",
       "      <th></th>\n",
       "      <th></th>\n",
       "      <th></th>\n",
       "      <th></th>\n",
       "      <th></th>\n",
       "      <th></th>\n",
       "      <th></th>\n",
       "      <th></th>\n",
       "      <th></th>\n",
       "      <th></th>\n",
       "      <th></th>\n",
       "      <th></th>\n",
       "    </tr>\n",
       "  </thead>\n",
       "  <tbody>\n",
       "    <tr>\n",
       "      <th>female</th>\n",
       "      <td>314.0</td>\n",
       "      <td>227.305732</td>\n",
       "      <td>132.683758</td>\n",
       "      <td>1.0</td>\n",
       "      <td>109.5</td>\n",
       "      <td>236.0</td>\n",
       "      <td>340.75</td>\n",
       "      <td>449.0</td>\n",
       "      <td>314.0</td>\n",
       "      <td>431.028662</td>\n",
       "      <td>...</td>\n",
       "      <td>1.0</td>\n",
       "      <td>6.0</td>\n",
       "      <td>314.0</td>\n",
       "      <td>44.479818</td>\n",
       "      <td>57.997698</td>\n",
       "      <td>6.75</td>\n",
       "      <td>12.071875</td>\n",
       "      <td>23.0</td>\n",
       "      <td>55.00</td>\n",
       "      <td>512.3292</td>\n",
       "    </tr>\n",
       "    <tr>\n",
       "      <th>male</th>\n",
       "      <td>577.0</td>\n",
       "      <td>219.571924</td>\n",
       "      <td>126.605257</td>\n",
       "      <td>0.0</td>\n",
       "      <td>112.0</td>\n",
       "      <td>219.0</td>\n",
       "      <td>330.00</td>\n",
       "      <td>451.0</td>\n",
       "      <td>577.0</td>\n",
       "      <td>454.147314</td>\n",
       "      <td>...</td>\n",
       "      <td>0.0</td>\n",
       "      <td>5.0</td>\n",
       "      <td>577.0</td>\n",
       "      <td>25.523893</td>\n",
       "      <td>43.138263</td>\n",
       "      <td>0.00</td>\n",
       "      <td>7.895800</td>\n",
       "      <td>10.5</td>\n",
       "      <td>26.55</td>\n",
       "      <td>512.3292</td>\n",
       "    </tr>\n",
       "  </tbody>\n",
       "</table>\n",
       "<p>2 rows × 64 columns</p>\n",
       "</div>"
      ],
      "text/plain": [
       "       Unnamed: 0                                                            \\\n",
       "            count        mean         std  min    25%    50%     75%    max   \n",
       "Sex                                                                           \n",
       "female      314.0  227.305732  132.683758  1.0  109.5  236.0  340.75  449.0   \n",
       "male        577.0  219.571924  126.605257  0.0  112.0  219.0  330.00  451.0   \n",
       "\n",
       "       PassengerId              ... Parch        Fare                        \\\n",
       "             count        mean  ...   75%  max  count       mean        std   \n",
       "Sex                             ...                                           \n",
       "female       314.0  431.028662  ...   1.0  6.0  314.0  44.479818  57.997698   \n",
       "male         577.0  454.147314  ...   0.0  5.0  577.0  25.523893  43.138263   \n",
       "\n",
       "                                                \n",
       "         min        25%   50%    75%       max  \n",
       "Sex                                             \n",
       "female  6.75  12.071875  23.0  55.00  512.3292  \n",
       "male    0.00   7.895800  10.5  26.55  512.3292  \n",
       "\n",
       "[2 rows x 64 columns]"
      ]
     },
     "execution_count": 6,
     "metadata": {},
     "output_type": "execute_result"
    }
   ],
   "source": [
    "group = df.groupby('Sex')\n",
    "group.describe()"
   ]
  },
  {
   "cell_type": "code",
   "execution_count": 19,
   "metadata": {},
   "outputs": [
    {
     "name": "stdout",
     "output_type": "stream",
     "text": [
      "        count       mean        std   min        25%   50%    75%       max\n",
      "Sex                                                                        \n",
      "female  314.0  44.479818  57.997698  6.75  12.071875  23.0  55.00  512.3292\n",
      "male    577.0  25.523893  43.138263  0.00   7.895800  10.5  26.55  512.3292\n",
      "Sex\n",
      "female    44.479818\n",
      "male      25.523893\n",
      "Name: Fare, dtype: float64\n"
     ]
    }
   ],
   "source": [
    "group = df.groupby('Sex')['Fare']\n",
    "print(group.describe())\n",
    "print(group.mean())\n",
    "sex_mean = group.mean()"
   ]
  },
  {
   "cell_type": "markdown",
   "metadata": {},
   "source": [
    "在了解GroupBy机制之后，运用这个机制完成一系列的操作，来达到我们的目的。\n",
    "\n",
    "下面通过几个任务来熟悉GroupBy机制。"
   ]
  },
  {
   "cell_type": "markdown",
   "metadata": {},
   "source": [
    "#### 2.4.3：任务三：统计泰坦尼克号中男女的存活人数"
   ]
  },
  {
   "cell_type": "code",
   "execution_count": 24,
   "metadata": {},
   "outputs": [
    {
     "data": {
      "text/plain": [
       "Sex\n",
       "female    233\n",
       "male      109\n",
       "Name: Survived, dtype: int64"
      ]
     },
     "execution_count": 24,
     "metadata": {},
     "output_type": "execute_result"
    }
   ],
   "source": [
    "# 写入代码\n",
    "survived_sex = df.groupby('Sex')['Survived'].sum()\n",
    "survived_sex.head()"
   ]
  },
  {
   "cell_type": "markdown",
   "metadata": {},
   "source": [
    "#### 2.4.4：任务四：计算客舱不同等级的存活人数"
   ]
  },
  {
   "cell_type": "code",
   "execution_count": 23,
   "metadata": {},
   "outputs": [
    {
     "data": {
      "text/plain": [
       "Pclass\n",
       "1    136\n",
       "2     87\n",
       "3    119\n",
       "Name: Survived, dtype: int64"
      ]
     },
     "execution_count": 23,
     "metadata": {},
     "output_type": "execute_result"
    }
   ],
   "source": [
    "# 写入代码\n",
    "survived_Pclass = df.groupby('Pclass')['Survived'].sum()\n",
    "survived_Pclass.head()"
   ]
  },
  {
   "cell_type": "markdown",
   "metadata": {},
   "source": [
    "【**提示：**】表中的存活那一栏，可以发现如果还活着记为1，死亡记为0"
   ]
  },
  {
   "cell_type": "markdown",
   "metadata": {},
   "source": [
    "【**思考**】从数据分析的角度，上面的统计结果可以得出那些结论"
   ]
  },
  {
   "cell_type": "markdown",
   "metadata": {},
   "source": [
    "#思考心得 \n",
    "女性的平均票价大于男性平均票价，且女性存活人数更多，一等舱存活人数更多"
   ]
  },
  {
   "cell_type": "markdown",
   "metadata": {},
   "source": [
    "【思考】从任务二到任务三中，这些运算可以通过agg()函数来同时计算。并且可以使用rename函数修改列名。你可以按照提示写出这个过程吗？"
   ]
  },
  {
   "cell_type": "code",
   "execution_count": 16,
   "metadata": {},
   "outputs": [
    {
     "data": {
      "text/html": [
       "<div>\n",
       "<style scoped>\n",
       "    .dataframe tbody tr th:only-of-type {\n",
       "        vertical-align: middle;\n",
       "    }\n",
       "\n",
       "    .dataframe tbody tr th {\n",
       "        vertical-align: top;\n",
       "    }\n",
       "\n",
       "    .dataframe thead th {\n",
       "        text-align: right;\n",
       "    }\n",
       "</style>\n",
       "<table border=\"1\" class=\"dataframe\">\n",
       "  <thead>\n",
       "    <tr style=\"text-align: right;\">\n",
       "      <th></th>\n",
       "      <th>mean_fare</th>\n",
       "      <th>count_pclass</th>\n",
       "    </tr>\n",
       "    <tr>\n",
       "      <th>Sex</th>\n",
       "      <th></th>\n",
       "      <th></th>\n",
       "    </tr>\n",
       "  </thead>\n",
       "  <tbody>\n",
       "    <tr>\n",
       "      <th>female</th>\n",
       "      <td>44.479818</td>\n",
       "      <td>314</td>\n",
       "    </tr>\n",
       "    <tr>\n",
       "      <th>male</th>\n",
       "      <td>25.523893</td>\n",
       "      <td>577</td>\n",
       "    </tr>\n",
       "  </tbody>\n",
       "</table>\n",
       "</div>"
      ],
      "text/plain": [
       "        mean_fare  count_pclass\n",
       "Sex                            \n",
       "female  44.479818           314\n",
       "male    25.523893           577"
      ]
     },
     "execution_count": 16,
     "metadata": {},
     "output_type": "execute_result"
    }
   ],
   "source": [
    "#思考心得\n",
    "\n",
    "df.groupby('Sex').agg({'Fare': 'mean', 'Pclass': 'count'}).rename(\n",
    "    columns= {'Fare': 'mean_fare', 'Pclass': 'count_pclass'})\n",
    "\n"
   ]
  },
  {
   "cell_type": "markdown",
   "metadata": {},
   "source": [
    "#### 2.4.5：任务五：统计在不同等级的票中的不同年龄的船票花费的平均值"
   ]
  },
  {
   "cell_type": "code",
   "execution_count": 17,
   "metadata": {},
   "outputs": [
    {
     "data": {
      "text/plain": [
       "Pclass  Age  \n",
       "1       0.92     151.5500\n",
       "        2.00     151.5500\n",
       "        4.00      81.8583\n",
       "        11.00    120.0000\n",
       "        14.00    120.0000\n",
       "Name: Fare, dtype: float64"
      ]
     },
     "execution_count": 17,
     "metadata": {},
     "output_type": "execute_result"
    }
   ],
   "source": [
    "# 写入代码\n",
    "df.groupby(['Pclass','Age'])['Fare'].mean().head()"
   ]
  },
  {
   "cell_type": "markdown",
   "metadata": {},
   "source": [
    "#### 2.4.6：任务六：将任务二和任务三的数据合并，并保存到sex_fare_survived.csv"
   ]
  },
  {
   "cell_type": "code",
   "execution_count": 22,
   "metadata": {},
   "outputs": [
    {
     "data": {
      "text/plain": [
       "Int64Index([1, 2, 3], dtype='int64', name='Pclass')"
      ]
     },
     "execution_count": 22,
     "metadata": {},
     "output_type": "execute_result"
    }
   ],
   "source": [
    "sex_mean.index\n",
    "survived_sex.index\n"
   ]
  },
  {
   "cell_type": "code",
   "execution_count": 25,
   "metadata": {},
   "outputs": [
    {
     "data": {
      "text/html": [
       "<div>\n",
       "<style scoped>\n",
       "    .dataframe tbody tr th:only-of-type {\n",
       "        vertical-align: middle;\n",
       "    }\n",
       "\n",
       "    .dataframe tbody tr th {\n",
       "        vertical-align: top;\n",
       "    }\n",
       "\n",
       "    .dataframe thead th {\n",
       "        text-align: right;\n",
       "    }\n",
       "</style>\n",
       "<table border=\"1\" class=\"dataframe\">\n",
       "  <thead>\n",
       "    <tr style=\"text-align: right;\">\n",
       "      <th></th>\n",
       "      <th>Fare</th>\n",
       "      <th>Survived</th>\n",
       "    </tr>\n",
       "    <tr>\n",
       "      <th>Sex</th>\n",
       "      <th></th>\n",
       "      <th></th>\n",
       "    </tr>\n",
       "  </thead>\n",
       "  <tbody>\n",
       "    <tr>\n",
       "      <th>female</th>\n",
       "      <td>44.479818</td>\n",
       "      <td>233</td>\n",
       "    </tr>\n",
       "    <tr>\n",
       "      <th>male</th>\n",
       "      <td>25.523893</td>\n",
       "      <td>109</td>\n",
       "    </tr>\n",
       "  </tbody>\n",
       "</table>\n",
       "</div>"
      ],
      "text/plain": [
       "             Fare  Survived\n",
       "Sex                        \n",
       "female  44.479818       233\n",
       "male    25.523893       109"
      ]
     },
     "execution_count": 25,
     "metadata": {},
     "output_type": "execute_result"
    }
   ],
   "source": [
    "# 写入代码\n",
    "result = pd.merge(sex_mean,survived_sex,on='Sex')\n",
    "result"
   ]
  },
  {
   "cell_type": "markdown",
   "metadata": {},
   "source": [
    "#### 2.4.7：任务七：得出不同年龄的总的存活人数，然后找出存活人数最多的年龄段，最后计算存活人数最高的存活率（存活人数/总人数）\n"
   ]
  },
  {
   "cell_type": "code",
   "execution_count": 26,
   "metadata": {},
   "outputs": [
    {
     "data": {
      "text/plain": [
       "Age\n",
       "0.42    1\n",
       "0.67    1\n",
       "0.75    2\n",
       "0.83    2\n",
       "0.92    1\n",
       "Name: Survived, dtype: int64"
      ]
     },
     "execution_count": 26,
     "metadata": {},
     "output_type": "execute_result"
    }
   ],
   "source": [
    "\n",
    "#不同年龄的存活人数\n",
    "survived_age = df.groupby('Age')['Survived'].sum()\n",
    "survived_age.head()"
   ]
  },
  {
   "cell_type": "code",
   "execution_count": 27,
   "metadata": {},
   "outputs": [
    {
     "data": {
      "text/plain": [
       "Age\n",
       "24.0    15\n",
       "Name: Survived, dtype: int64"
      ]
     },
     "execution_count": 27,
     "metadata": {},
     "output_type": "execute_result"
    }
   ],
   "source": [
    "#找出最大值的年龄段\n",
    "survived_age[survived_age.values==survived_age.max()]"
   ]
  },
  {
   "cell_type": "code",
   "execution_count": 30,
   "metadata": {},
   "outputs": [
    {
     "data": {
      "text/plain": [
       "342"
      ]
     },
     "execution_count": 30,
     "metadata": {},
     "output_type": "execute_result"
    }
   ],
   "source": [
    "# 存活人数最高的存活率\n",
    "\n",
    "Survived_sum = df['Survived'].sum()\n",
    "Survived_sum"
   ]
  },
  {
   "cell_type": "code",
   "execution_count": 32,
   "metadata": {},
   "outputs": [
    {
     "data": {
      "text/plain": [
       "0.043859649122807015"
      ]
     },
     "execution_count": 32,
     "metadata": {},
     "output_type": "execute_result"
    }
   ],
   "source": [
    "precetn =survived_age.max()/Survived_sum\n",
    "precetn"
   ]
  },
  {
   "cell_type": "code",
   "execution_count": 2,
   "metadata": {},
   "outputs": [],
   "source": [
    "# 写入代码\n"
   ]
  }
 ],
 "metadata": {
  "kernelspec": {
   "display_name": "Python 3 (ipykernel)",
   "language": "python",
   "name": "python3"
  },
  "language_info": {
   "codemirror_mode": {
    "name": "ipython",
    "version": 3
   },
   "file_extension": ".py",
   "mimetype": "text/x-python",
   "name": "python",
   "nbconvert_exporter": "python",
   "pygments_lexer": "ipython3",
   "version": "3.8.8"
  },
  "toc": {
   "base_numbering": 1,
   "nav_menu": {},
   "number_sections": false,
   "sideBar": true,
   "skip_h1_title": false,
   "title_cell": "Table of Contents",
   "title_sidebar": "Contents",
   "toc_cell": false,
   "toc_position": {
    "height": "calc(100% - 180px)",
    "left": "10px",
    "top": "150px",
    "width": "582px"
   },
   "toc_section_display": true,
   "toc_window_display": true
  }
 },
 "nbformat": 4,
 "nbformat_minor": 4
}
